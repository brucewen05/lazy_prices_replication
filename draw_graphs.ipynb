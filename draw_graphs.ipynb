{
 "cells":[
  {
   "cell_type":"code",
   "source":[
    "import pandas as pd\n",
    "import numpy as np\n",
    "\n",
    "import pandas as pd\n",
    "import yfinance as yf\n",
    "import matplotlib.pyplot as plt"
   ],
   "execution_count":2,
   "outputs":[],
   "metadata":{
    "datalore":{
     "node_id":"jJ93cc4LbGFaH1l5SBJHZ2",
     "type":"CODE",
     "hide_input_from_viewers":false,
     "hide_output_from_viewers":false,
     "report_properties":{
      "rowId":"1wvNWpBt7S6YPDRXHdGilV"
     }
    }
   }
  },
  {
   "cell_type":"markdown",
   "source":[
    "# Benchmark"
   ],
   "attachments":{},
   "metadata":{
    "datalore":{
     "node_id":"9eQpx0zU9p1dfC3HYn9gRo",
     "type":"MD",
     "hide_input_from_viewers":false,
     "hide_output_from_viewers":false,
     "report_properties":{
      "rowId":"aW433aczENwVMlmYJclYh2"
     }
    }
   }
  },
  {
   "cell_type":"code",
   "source":[
    "# Define the ticker for the S&P 500 index (commonly '^GSPC' for Yahoo Finance)\n",
    "ticker = '^GSPC'\n",
    "\n",
    "# Define the date range between 2008 and 2011\n",
    "start_date = '2008-01-01'\n",
    "end_date = '2011-12-31'\n",
    "\n",
    "# Download the data from Yahoo Finance\n",
    "sp500_data = yf.download(ticker, start=start_date, end=end_date)\n",
    "\n",
    "retsp500 = sp500_data[[\"Close\"]].pct_change()\n",
    "retsp500.columns = [\"daily_return\"]\n",
    "cumretsp500 = retsp500.cumsum()\n",
    "cumretsp500.plot()"
   ],
   "execution_count":3,
   "outputs":[
    {
     "name":"stdout",
     "text":[
      "\r[*********************100%***********************]  1 of 1 completed\n"
     ],
     "output_type":"stream"
    },
    {
     "data":{
      "text\/plain":[
       "<Axes: xlabel='Date'>"
      ]
     },
     "metadata":{},
     "output_type":"display_data"
    },
    {
     "data":{
      "image\/png":"[encoded data removed]"
     },
     "metadata":{
      "image\/png":{}
     },
     "output_type":"display_data"
    }
   ],
   "metadata":{
    "datalore":{
     "node_id":"lbB4rSToflOpXFokbUPAng",
     "type":"CODE",
     "hide_input_from_viewers":false,
     "hide_output_from_viewers":false,
     "report_properties":{
      "rowId":"uLVN4KLQZHUY5375Rkgghm"
     }
    }
   }
  },
  {
   "cell_type":"markdown",
   "source":[
    "# Enter path for data"
   ],
   "attachments":{},
   "metadata":{
    "datalore":{
     "node_id":"KPbq8PCUBik6CQNBTyVkx9",
     "type":"MD",
     "hide_input_from_viewers":false,
     "hide_output_from_viewers":false,
     "report_properties":{
      "rowId":"YM5SSVhBgJ8vCqvZVT9N3K"
     }
    }
   }
  },
  {
   "cell_type":"code",
   "source":[
    "path_similarity = \"\/data\/workspace_files\/lazy_price_replication\/10k_final_with_ticker_name_filtered_w_similarity_and_sentiment.csv\"\n",
    "path_price = \"\/data\/workspace_files\/lazy_price_replication\/all_ticker_prices.csv\""
   ],
   "execution_count":4,
   "outputs":[],
   "metadata":{
    "datalore":{
     "node_id":"mOr2JAnhIjgVF5eemWHgfN",
     "type":"CODE",
     "hide_input_from_viewers":false,
     "hide_output_from_viewers":false,
     "report_properties":{
      "rowId":"GtYkYlSpr0a1z4IglLjUfe"
     }
    }
   }
  },
  {
   "cell_type":"code",
   "source":[
    "data_sim = pd.read_csv(path_similarity)\n",
    "price_data = pd.read_csv(path_price, index_col=0)"
   ],
   "execution_count":5,
   "outputs":[],
   "metadata":{
    "datalore":{
     "node_id":"e5errr4EQCIy6oh6PvcEJo",
     "type":"CODE",
     "hide_input_from_viewers":false,
     "hide_output_from_viewers":false,
     "report_properties":{
      "rowId":"xlUBdvAAgf3tUwlVy230fR"
     }
    }
   }
  },
  {
   "cell_type":"code",
   "source":[
    "data_sim"
   ],
   "execution_count":6,
   "outputs":[
    {
     "data":{
      "text\/html":[
       "<div>\n",
       "<style scoped>\n",
       "    .dataframe tbody tr th:only-of-type {\n",
       "        vertical-align: middle;\n",
       "    }\n",
       "\n",
       "    .dataframe tbody tr th {\n",
       "        vertical-align: top;\n",
       "    }\n",
       "\n",
       "    .dataframe thead th {\n",
       "        text-align: right;\n",
       "    }\n",
       "<\/style>\n",
       "<table border=\"1\" class=\"dataframe\">\n",
       "  <thead>\n",
       "    <tr style=\"text-align: right;\">\n",
       "      <th><\/th>\n",
       "      <th>Unnamed: 0<\/th>\n",
       "      <th>cik<\/th>\n",
       "      <th>report_period_end_date2007<\/th>\n",
       "      <th>file_date2007<\/th>\n",
       "      <th>statement2007<\/th>\n",
       "      <th>report_period_end_date2008<\/th>\n",
       "      <th>file_date2008<\/th>\n",
       "      <th>statement2008<\/th>\n",
       "      <th>report_period_end_date2009<\/th>\n",
       "      <th>file_date2009<\/th>\n",
       "      <th>...<\/th>\n",
       "      <th>min_edit_distance_similarity_2008_to_2009<\/th>\n",
       "      <th>min_edit_distance_similarity_2009_to_2010<\/th>\n",
       "      <th>min_edit_distance_similarity_2010_to_2011<\/th>\n",
       "      <th>min_edit_distance_similarity_2011_to_2012<\/th>\n",
       "      <th>sentiment2007<\/th>\n",
       "      <th>sentiment2008<\/th>\n",
       "      <th>sentiment2009<\/th>\n",
       "      <th>sentiment2010<\/th>\n",
       "      <th>sentiment2011<\/th>\n",
       "      <th>sentiment2012<\/th>\n",
       "    <\/tr>\n",
       "  <\/thead>\n",
       "  <tbody>\n",
       "    <tr>\n",
       "      <th>0<\/th>\n",
       "      <td>0<\/td>\n",
       "      <td>1800<\/td>\n",
       "      <td>20071231<\/td>\n",
       "      <td>20080219<\/td>\n",
       "      <td>ITEM 7. MANAGEMENTS DISCUSSION AND ANALYSIS OF...<\/td>\n",
       "      <td>20081231<\/td>\n",
       "      <td>20090220<\/td>\n",
       "      <td>ITEM 7. MANAGEMENTS DISCUSSION AND ANALYSIS OF...<\/td>\n",
       "      <td>20091231<\/td>\n",
       "      <td>20100219<\/td>\n",
       "      <td>...<\/td>\n",
       "      <td>0.307008<\/td>\n",
       "      <td>0.513502<\/td>\n",
       "      <td>0.540668<\/td>\n",
       "      <td>0.348060<\/td>\n",
       "      <td>0.121238<\/td>\n",
       "      <td>0.124539<\/td>\n",
       "      <td>0.391319<\/td>\n",
       "      <td>0.209631<\/td>\n",
       "      <td>0.130986<\/td>\n",
       "      <td>0.093917<\/td>\n",
       "    <\/tr>\n",
       "    <tr>\n",
       "      <th>1<\/th>\n",
       "      <td>2<\/td>\n",
       "      <td>2178<\/td>\n",
       "      <td>20071231<\/td>\n",
       "      <td>20080331<\/td>\n",
       "      <td>Item 7. MANAGEMENTS DISCUSSION AND ANALYSIS OF...<\/td>\n",
       "      <td>20081231<\/td>\n",
       "      <td>20090324<\/td>\n",
       "      <td>Item 7. MANAGEMENTS DISCUSSION AND ANALYSIS OF...<\/td>\n",
       "      <td>20091231<\/td>\n",
       "      <td>20100323<\/td>\n",
       "      <td>...<\/td>\n",
       "      <td>0.417274<\/td>\n",
       "      <td>0.408893<\/td>\n",
       "      <td>0.308048<\/td>\n",
       "      <td>0.293831<\/td>\n",
       "      <td>0.350000<\/td>\n",
       "      <td>0.050000<\/td>\n",
       "      <td>-0.100000<\/td>\n",
       "      <td>0.300000<\/td>\n",
       "      <td>0.050000<\/td>\n",
       "      <td>0.170000<\/td>\n",
       "    <\/tr>\n",
       "    <tr>\n",
       "      <th>2<\/th>\n",
       "      <td>3<\/td>\n",
       "      <td>3453<\/td>\n",
       "      <td>20071231<\/td>\n",
       "      <td>20080228<\/td>\n",
       "      <td>ITEM 7. MANAGEMENTS DISCUSSION AND ANALYSIS OF...<\/td>\n",
       "      <td>20081231<\/td>\n",
       "      <td>20090227<\/td>\n",
       "      <td>ITEM 7. MANAGEMENTS DISCUSSION AND ANALYSIS OF...<\/td>\n",
       "      <td>20091231<\/td>\n",
       "      <td>20100226<\/td>\n",
       "      <td>...<\/td>\n",
       "      <td>0.404420<\/td>\n",
       "      <td>0.374144<\/td>\n",
       "      <td>0.345286<\/td>\n",
       "      <td>0.551090<\/td>\n",
       "      <td>0.200000<\/td>\n",
       "      <td>0.268524<\/td>\n",
       "      <td>0.154646<\/td>\n",
       "      <td>0.200000<\/td>\n",
       "      <td>0.180894<\/td>\n",
       "      <td>-0.067076<\/td>\n",
       "    <\/tr>\n",
       "    <tr>\n",
       "      <th>3<\/th>\n",
       "      <td>4<\/td>\n",
       "      <td>3499<\/td>\n",
       "      <td>20071231<\/td>\n",
       "      <td>20080225<\/td>\n",
       "      <td>Item 7. Managements Discussion and Analysis of...<\/td>\n",
       "      <td>20081231<\/td>\n",
       "      <td>20090223<\/td>\n",
       "      <td>Item 7. Managements Discussion and Analysis of...<\/td>\n",
       "      <td>20091231<\/td>\n",
       "      <td>20100222<\/td>\n",
       "      <td>...<\/td>\n",
       "      <td>0.489073<\/td>\n",
       "      <td>0.415982<\/td>\n",
       "      <td>0.453388<\/td>\n",
       "      <td>0.337923<\/td>\n",
       "      <td>0.030000<\/td>\n",
       "      <td>-0.200000<\/td>\n",
       "      <td>-0.200000<\/td>\n",
       "      <td>-0.200000<\/td>\n",
       "      <td>0.200000<\/td>\n",
       "      <td>-0.100000<\/td>\n",
       "    <\/tr>\n",
       "    <tr>\n",
       "      <th>4<\/th>\n",
       "      <td>5<\/td>\n",
       "      <td>3545<\/td>\n",
       "      <td>20070831<\/td>\n",
       "      <td>20071114<\/td>\n",
       "      <td>Item 7. Managements Discussion and Analysis of...<\/td>\n",
       "      <td>20080930<\/td>\n",
       "      <td>20081215<\/td>\n",
       "      <td>Item 7. Managements Discussion and Analysis of...<\/td>\n",
       "      <td>20090930<\/td>\n",
       "      <td>20091214<\/td>\n",
       "      <td>...<\/td>\n",
       "      <td>0.446751<\/td>\n",
       "      <td>0.544851<\/td>\n",
       "      <td>1.108925<\/td>\n",
       "      <td>0.717271<\/td>\n",
       "      <td>-0.150000<\/td>\n",
       "      <td>-0.100759<\/td>\n",
       "      <td>-0.241107<\/td>\n",
       "      <td>-0.238509<\/td>\n",
       "      <td>0.333335<\/td>\n",
       "      <td>0.200000<\/td>\n",
       "    <\/tr>\n",
       "    <tr>\n",
       "      <th>...<\/th>\n",
       "      <td>...<\/td>\n",
       "      <td>...<\/td>\n",
       "      <td>...<\/td>\n",
       "      <td>...<\/td>\n",
       "      <td>...<\/td>\n",
       "      <td>...<\/td>\n",
       "      <td>...<\/td>\n",
       "      <td>...<\/td>\n",
       "      <td>...<\/td>\n",
       "      <td>...<\/td>\n",
       "      <td>...<\/td>\n",
       "      <td>...<\/td>\n",
       "      <td>...<\/td>\n",
       "      <td>...<\/td>\n",
       "      <td>...<\/td>\n",
       "      <td>...<\/td>\n",
       "      <td>...<\/td>\n",
       "      <td>...<\/td>\n",
       "      <td>...<\/td>\n",
       "      <td>...<\/td>\n",
       "      <td>...<\/td>\n",
       "    <\/tr>\n",
       "    <tr>\n",
       "      <th>720<\/th>\n",
       "      <td>1200<\/td>\n",
       "      <td>1401564<\/td>\n",
       "      <td>20071231<\/td>\n",
       "      <td>20080331<\/td>\n",
       "      <td>Item 7. Managements Discussion and Analysis of...<\/td>\n",
       "      <td>20081231<\/td>\n",
       "      <td>20090310<\/td>\n",
       "      <td>Item 7. Managements Discussion and Analysis of...<\/td>\n",
       "      <td>20091231<\/td>\n",
       "      <td>20100311<\/td>\n",
       "      <td>...<\/td>\n",
       "      <td>0.419768<\/td>\n",
       "      <td>0.281468<\/td>\n",
       "      <td>0.249981<\/td>\n",
       "      <td>0.331602<\/td>\n",
       "      <td>0.142722<\/td>\n",
       "      <td>-0.022510<\/td>\n",
       "      <td>0.081454<\/td>\n",
       "      <td>0.175144<\/td>\n",
       "      <td>0.172564<\/td>\n",
       "      <td>0.145069<\/td>\n",
       "    <\/tr>\n",
       "    <tr>\n",
       "      <th>721<\/th>\n",
       "      <td>1201<\/td>\n",
       "      <td>1403161<\/td>\n",
       "      <td>20070930<\/td>\n",
       "      <td>20071221<\/td>\n",
       "      <td>Item 7 Managements Discussion and Analysis of ...<\/td>\n",
       "      <td>20080930<\/td>\n",
       "      <td>20081121<\/td>\n",
       "      <td>Item 7 Managements Discussion and Analysis of ...<\/td>\n",
       "      <td>20090930<\/td>\n",
       "      <td>20091120<\/td>\n",
       "      <td>...<\/td>\n",
       "      <td>0.660254<\/td>\n",
       "      <td>0.349052<\/td>\n",
       "      <td>0.325162<\/td>\n",
       "      <td>0.763887<\/td>\n",
       "      <td>0.147093<\/td>\n",
       "      <td>0.214760<\/td>\n",
       "      <td>0.131843<\/td>\n",
       "      <td>0.235606<\/td>\n",
       "      <td>0.434432<\/td>\n",
       "      <td>-0.449011<\/td>\n",
       "    <\/tr>\n",
       "    <tr>\n",
       "      <th>722<\/th>\n",
       "      <td>1205<\/td>\n",
       "      <td>1406587<\/td>\n",
       "      <td>20071229<\/td>\n",
       "      <td>20080304<\/td>\n",
       "      <td>Item 7. Managements Discussion and Analysis of...<\/td>\n",
       "      <td>20081231<\/td>\n",
       "      <td>20090305<\/td>\n",
       "      <td>Item 7. Managements Discussion and Analysis of...<\/td>\n",
       "      <td>20091231<\/td>\n",
       "      <td>20100303<\/td>\n",
       "      <td>...<\/td>\n",
       "      <td>0.514936<\/td>\n",
       "      <td>0.391496<\/td>\n",
       "      <td>0.406814<\/td>\n",
       "      <td>0.456269<\/td>\n",
       "      <td>0.050000<\/td>\n",
       "      <td>-0.200000<\/td>\n",
       "      <td>0.200000<\/td>\n",
       "      <td>0.189922<\/td>\n",
       "      <td>0.131045<\/td>\n",
       "      <td>0.298571<\/td>\n",
       "    <\/tr>\n",
       "    <tr>\n",
       "      <th>723<\/th>\n",
       "      <td>1207<\/td>\n",
       "      <td>1408534<\/td>\n",
       "      <td>20071231<\/td>\n",
       "      <td>20080331<\/td>\n",
       "      <td>Item 7 Managements Discussion and Analysis of ...<\/td>\n",
       "      <td>20081231<\/td>\n",
       "      <td>20090331<\/td>\n",
       "      <td>Item 7 Managements Discussion and Analysis of ...<\/td>\n",
       "      <td>20091231<\/td>\n",
       "      <td>20100331<\/td>\n",
       "      <td>...<\/td>\n",
       "      <td>0.289336<\/td>\n",
       "      <td>0.349628<\/td>\n",
       "      <td>0.440325<\/td>\n",
       "      <td>0.310063<\/td>\n",
       "      <td>0.532860<\/td>\n",
       "      <td>-0.012300<\/td>\n",
       "      <td>0.339242<\/td>\n",
       "      <td>0.130007<\/td>\n",
       "      <td>0.328891<\/td>\n",
       "      <td>0.248239<\/td>\n",
       "    <\/tr>\n",
       "    <tr>\n",
       "      <th>724<\/th>\n",
       "      <td>1209<\/td>\n",
       "      <td>1410172<\/td>\n",
       "      <td>20071231<\/td>\n",
       "      <td>20080320<\/td>\n",
       "      <td>ITEM 7. MANAGEMENTS DISCUSSION AND ANALYSIS OF...<\/td>\n",
       "      <td>20081231<\/td>\n",
       "      <td>20090313<\/td>\n",
       "      <td>ITEM 7. MANAGEMENTS DISCUSSION AND ANALYSIS OF...<\/td>\n",
       "      <td>20091231<\/td>\n",
       "      <td>20100301<\/td>\n",
       "      <td>...<\/td>\n",
       "      <td>0.340555<\/td>\n",
       "      <td>0.509002<\/td>\n",
       "      <td>0.340009<\/td>\n",
       "      <td>0.395551<\/td>\n",
       "      <td>0.500000<\/td>\n",
       "      <td>0.258253<\/td>\n",
       "      <td>0.213944<\/td>\n",
       "      <td>0.200000<\/td>\n",
       "      <td>0.298213<\/td>\n",
       "      <td>0.118765<\/td>\n",
       "    <\/tr>\n",
       "  <\/tbody>\n",
       "<\/table>\n",
       "<p>725 rows × 47 columns<\/p>\n",
       "<\/div>"
      ]
     },
     "metadata":{},
     "output_type":"display_data"
    }
   ],
   "metadata":{
    "datalore":{
     "node_id":"Ei1NrWHJYac5Q39FMHVYtf",
     "type":"CODE",
     "hide_input_from_viewers":false,
     "hide_output_from_viewers":false,
     "report_properties":{
      "rowId":"zKPQgPKbdaKLNvHVpOlZSE"
     }
    }
   }
  },
  {
   "cell_type":"code",
   "source":[
    "data_sim.columns"
   ],
   "execution_count":7,
   "outputs":[
    {
     "data":{
      "text\/plain":[
       "Index(['Unnamed: 0', 'cik', 'report_period_end_date2007', 'file_date2007',\n",
       "       'statement2007', 'report_period_end_date2008', 'file_date2008',\n",
       "       'statement2008', 'report_period_end_date2009', 'file_date2009',\n",
       "       'statement2009', 'report_period_end_date2010', 'file_date2010',\n",
       "       'statement2010', 'report_period_end_date2011', 'file_date2011',\n",
       "       'statement2011', 'company_name', 'sic', 'form_type',\n",
       "       'report_period_end_date2012', 'file_date2012', 'statement2012',\n",
       "       'cusip_full', 'cusip', 'ticker', 'consine_similarity_2007_to_2008',\n",
       "       'consine_similarity_2008_to_2009', 'consine_similarity_2009_to_2010',\n",
       "       'consine_similarity_2010_to_2011', 'consine_similarity_2011_to_2012',\n",
       "       'jaccard_similarity_2007_to_2008', 'jaccard_similarity_2008_to_2009',\n",
       "       'jaccard_similarity_2009_to_2010', 'jaccard_similarity_2010_to_2011',\n",
       "       'jaccard_similarity_2011_to_2012',\n",
       "       'min_edit_distance_similarity_2007_to_2008',\n",
       "       'min_edit_distance_similarity_2008_to_2009',\n",
       "       'min_edit_distance_similarity_2009_to_2010',\n",
       "       'min_edit_distance_similarity_2010_to_2011',\n",
       "       'min_edit_distance_similarity_2011_to_2012', 'sentiment2007',\n",
       "       'sentiment2008', 'sentiment2009', 'sentiment2010', 'sentiment2011',\n",
       "       'sentiment2012'],\n",
       "      dtype='object')"
      ]
     },
     "metadata":{},
     "output_type":"display_data"
    }
   ],
   "metadata":{
    "datalore":{
     "node_id":"kwIuxDp7vMD6FzGkOtxW8y",
     "type":"CODE",
     "hide_input_from_viewers":false,
     "hide_output_from_viewers":false,
     "report_properties":{
      "rowId":"mBR8a8abss1tWtf429QJh3"
     }
    }
   }
  },
  {
   "cell_type":"code",
   "source":[
    "date_columns = [f'file_date{year}' for year in range(2007, 2013)]\n",
    "\n",
    "# Initialize an empty list to store all the filtered dates\n",
    "all_dates = []\n",
    "\n",
    "# Loop through each file_date column\n",
    "for col in date_columns:\n",
    "    filings_date = data_sim[col].to_list()\n",
    "    date_obj = pd.to_datetime(filings_date, format='%Y%m%d', errors='coerce')\n",
    "    all_dates.extend(date_obj)\n",
    "\n",
    "date_columns = [f'report_period_end_date{year}' for year in range(2007, 2013)]\n",
    "\n",
    "# Initialize an empty list to store all the filtered dates\n",
    "all_dates_rep = []\n",
    "\n",
    "# Loop through each reporting_date column\n",
    "for col in date_columns:\n",
    "    filings_date = data_sim[col].to_list()\n",
    "    date_obj = pd.to_datetime(filings_date, format='%Y%m%d', errors='coerce')\n",
    "    all_dates_rep.extend(date_obj)\n",
    "\n",
    "\n",
    "# Convert the list of dates into a pandas DataFrame for easier manipulation\n",
    "dates_df = pd.DataFrame(all_dates, columns=['date'])\n",
    "# Add a column for the year and the quarter\n",
    "dates_df['year'] = dates_df['date'].dt.year\n",
    "dates_df = dates_df[dates_df[\"year\"]<2012]\n",
    "dates_df['quarter'] = dates_df['date'].dt.to_period('Q')  # This creates values like '2007Q1', '2007Q2', etc.\n",
    "\n",
    "# Count the number of dates in each quarter\n",
    "quarter_counts = dates_df['quarter'].value_counts().sort_index()"
   ],
   "execution_count":8,
   "outputs":[],
   "metadata":{
    "datalore":{
     "node_id":"qd1F732XN8SwefcFu7AMwj",
     "type":"CODE",
     "hide_input_from_viewers":false,
     "hide_output_from_viewers":false,
     "report_properties":{
      "rowId":"EKMMtgld1J27HhHg5ZVBQE"
     }
    }
   }
  },
  {
   "cell_type":"code",
   "source":[
    "# Plot the histogram\n",
    "plt.figure(figsize=(10, 6))\n",
    "quarter_counts.plot(kind='bar', color='skyblue', edgecolor='black')\n",
    "plt.title('Number of Filings per Quarter (2007-2011)', fontsize=16)\n",
    "plt.xlabel('Quarter', fontsize=12)\n",
    "plt.ylabel('Number of Dates', fontsize=12)\n",
    "plt.xticks(rotation=45)\n",
    "plt.tight_layout()\n",
    "\n",
    "# Show the plot\n",
    "plt.show()"
   ],
   "execution_count":9,
   "outputs":[
    {
     "data":{
      "image\/png":"[encoded data removed]"
     },
     "metadata":{
      "image\/png":{}
     },
     "output_type":"display_data"
    }
   ],
   "metadata":{
    "datalore":{
     "node_id":"YD6l1yGe1jyahIKR2RdjLT",
     "type":"CODE",
     "hide_input_from_viewers":false,
     "hide_output_from_viewers":false,
     "report_properties":{
      "rowId":"NglIKN3KZARlgJnppwCWpf"
     }
    }
   }
  },
  {
   "cell_type":"code",
   "source":[
    "price_data['returns'] = price_data['Close'].pct_change()\n",
    "price_data = price_data[abs(price_data['returns'])<90]"
   ],
   "execution_count":10,
   "outputs":[],
   "metadata":{
    "datalore":{
     "node_id":"iJkuTdj5OrRRPZ85hOt0P6",
     "type":"CODE",
     "hide_input_from_viewers":false,
     "hide_output_from_viewers":false,
     "report_properties":{
      "rowId":"zB2PLdKAnkLeRyXnSifJ3Z"
     }
    }
   }
  },
  {
   "cell_type":"code",
   "source":[
    "import pandas as pd\n",
    "# Convert 'date' to datetime\n",
    "price_data['Date'] = pd.to_datetime(price_data['Date'])\n",
    "\n",
    "# Extract year and quarter from 'date'\n",
    "price_data['year'] = price_data['Date'].dt.year\n",
    "price_data['quarter'] = price_data['Date'].dt.quarter\n",
    "\n",
    "# Group by ticker, year, and quarter, then calculate quarterly return\n",
    "yearly_returns = price_data.groupby(['ticker', 'year']).apply(\n",
    "    lambda x: np.log(x['Close'].iloc[-1]) - np.log(x['Close'].iloc[0])\n",
    ").reset_index(name='yearly_return')"
   ],
   "execution_count":11,
   "outputs":[],
   "metadata":{
    "datalore":{
     "node_id":"5lmFmq8ztkRuYXl6oH3UVC",
     "type":"CODE",
     "hide_input_from_viewers":false,
     "hide_output_from_viewers":false,
     "report_properties":{
      "rowId":"4QZCwrmsFjqiJLo6QxEqAb"
     }
    }
   }
  },
  {
   "cell_type":"code",
   "source":[
    "cols = [col for col in data_sim.columns if 'similarity' in col]\n",
    "cols.append('ticker')\n",
    "data = data_sim[cols]\n",
    "prefixes = ['consine_similarity', 'jaccard_similarity', 'min_edit_distance_similarity']\n",
    "\n",
    "# Melt the DataFrame to reshape it from wide to long format\n",
    "melted_df = pd.melt(data, id_vars=['ticker'], var_name='similarity', value_name='value')\n",
    "\n",
    "# Extract year and similarity type from the column name\n",
    "melted_df['year'] = melted_df['similarity'].str.extract(r'(\\d{4})').astype(int)\n",
    "melted_df['similarity_type'] = melted_df['similarity'].str.extract(r'(^[a-zA-Z_]+)')\n",
    "\n",
    "# Pivot the DataFrame to get separate columns for each similarity measure\n",
    "final_df = melted_df.pivot_table(index=['ticker', 'year'], columns='similarity_type', values='value').reset_index()\n",
    "\n",
    "# Rename the columns to a cleaner format\n",
    "final_df.columns.name = None\n",
    "final_df.rename(columns={'consine_similarity': 'cosine_similarity',\n",
    "                         'min_edit_distance_similarity': 'min_edit_similarity'}, inplace=True)\n",
    "\n",
    "merged_df = pd.merge(yearly_returns, final_df, on=['ticker', 'year'], how='inner')"
   ],
   "execution_count":12,
   "outputs":[],
   "metadata":{
    "datalore":{
     "node_id":"7dGu3rigdT4bxWq3ahq9X1",
     "type":"CODE",
     "hide_input_from_viewers":false,
     "hide_output_from_viewers":false,
     "report_properties":{
      "rowId":"RnRFQvT4uQ18oqxnrSheG7"
     }
    }
   }
  },
  {
   "cell_type":"code",
   "source":[
    "merged_df"
   ],
   "execution_count":13,
   "outputs":[
    {
     "data":{
      "text\/html":[
       "<div>\n",
       "<style scoped>\n",
       "    .dataframe tbody tr th:only-of-type {\n",
       "        vertical-align: middle;\n",
       "    }\n",
       "\n",
       "    .dataframe tbody tr th {\n",
       "        vertical-align: top;\n",
       "    }\n",
       "\n",
       "    .dataframe thead th {\n",
       "        text-align: right;\n",
       "    }\n",
       "<\/style>\n",
       "<table border=\"1\" class=\"dataframe\">\n",
       "  <thead>\n",
       "    <tr style=\"text-align: right;\">\n",
       "      <th><\/th>\n",
       "      <th>ticker<\/th>\n",
       "      <th>year<\/th>\n",
       "      <th>yearly_return<\/th>\n",
       "      <th>consine_similarity_<\/th>\n",
       "      <th>jaccard_similarity_<\/th>\n",
       "      <th>min_edit_distance_similarity_<\/th>\n",
       "    <\/tr>\n",
       "  <\/thead>\n",
       "  <tbody>\n",
       "    <tr>\n",
       "      <th>0<\/th>\n",
       "      <td>A<\/td>\n",
       "      <td>2008<\/td>\n",
       "      <td>-0.842626<\/td>\n",
       "      <td>0.971962<\/td>\n",
       "      <td>0.646277<\/td>\n",
       "      <td>0.553667<\/td>\n",
       "    <\/tr>\n",
       "    <tr>\n",
       "      <th>1<\/th>\n",
       "      <td>A<\/td>\n",
       "      <td>2009<\/td>\n",
       "      <td>0.648765<\/td>\n",
       "      <td>0.978742<\/td>\n",
       "      <td>0.675712<\/td>\n",
       "      <td>0.455184<\/td>\n",
       "    <\/tr>\n",
       "    <tr>\n",
       "      <th>2<\/th>\n",
       "      <td>A<\/td>\n",
       "      <td>2010<\/td>\n",
       "      <td>0.280387<\/td>\n",
       "      <td>0.984509<\/td>\n",
       "      <td>0.726276<\/td>\n",
       "      <td>0.445068<\/td>\n",
       "    <\/tr>\n",
       "    <tr>\n",
       "      <th>3<\/th>\n",
       "      <td>A<\/td>\n",
       "      <td>2011<\/td>\n",
       "      <td>-0.181462<\/td>\n",
       "      <td>0.982049<\/td>\n",
       "      <td>0.689987<\/td>\n",
       "      <td>0.491005<\/td>\n",
       "    <\/tr>\n",
       "    <tr>\n",
       "      <th>4<\/th>\n",
       "      <td>AACC<\/td>\n",
       "      <td>2008<\/td>\n",
       "      <td>-0.655256<\/td>\n",
       "      <td>0.964791<\/td>\n",
       "      <td>0.693878<\/td>\n",
       "      <td>0.589344<\/td>\n",
       "    <\/tr>\n",
       "    <tr>\n",
       "      <th>...<\/th>\n",
       "      <td>...<\/td>\n",
       "      <td>...<\/td>\n",
       "      <td>...<\/td>\n",
       "      <td>...<\/td>\n",
       "      <td>...<\/td>\n",
       "      <td>...<\/td>\n",
       "    <\/tr>\n",
       "    <tr>\n",
       "      <th>2692<\/th>\n",
       "      <td>ZUMZ<\/td>\n",
       "      <td>2011<\/td>\n",
       "      <td>0.022588<\/td>\n",
       "      <td>0.992775<\/td>\n",
       "      <td>0.790205<\/td>\n",
       "      <td>0.284525<\/td>\n",
       "    <\/tr>\n",
       "    <tr>\n",
       "      <th>2693<\/th>\n",
       "      <td>ZZ<\/td>\n",
       "      <td>2008<\/td>\n",
       "      <td>-1.453692<\/td>\n",
       "      <td>0.988960<\/td>\n",
       "      <td>0.719824<\/td>\n",
       "      <td>0.457755<\/td>\n",
       "    <\/tr>\n",
       "    <tr>\n",
       "      <th>2694<\/th>\n",
       "      <td>ZZ<\/td>\n",
       "      <td>2009<\/td>\n",
       "      <td>0.161031<\/td>\n",
       "      <td>0.987752<\/td>\n",
       "      <td>0.736493<\/td>\n",
       "      <td>0.363532<\/td>\n",
       "    <\/tr>\n",
       "    <tr>\n",
       "      <th>2695<\/th>\n",
       "      <td>ZZ<\/td>\n",
       "      <td>2010<\/td>\n",
       "      <td>-0.091567<\/td>\n",
       "      <td>0.988746<\/td>\n",
       "      <td>0.766936<\/td>\n",
       "      <td>0.388361<\/td>\n",
       "    <\/tr>\n",
       "    <tr>\n",
       "      <th>2696<\/th>\n",
       "      <td>ZZ<\/td>\n",
       "      <td>2011<\/td>\n",
       "      <td>-0.552949<\/td>\n",
       "      <td>0.986773<\/td>\n",
       "      <td>0.767979<\/td>\n",
       "      <td>0.302619<\/td>\n",
       "    <\/tr>\n",
       "  <\/tbody>\n",
       "<\/table>\n",
       "<p>2697 rows × 6 columns<\/p>\n",
       "<\/div>"
      ]
     },
     "metadata":{},
     "output_type":"display_data"
    }
   ],
   "metadata":{
    "datalore":{
     "node_id":"dt7wB5RMKqUffuBoPY5qXp",
     "type":"CODE",
     "hide_input_from_viewers":false,
     "hide_output_from_viewers":false,
     "report_properties":{
      "rowId":"IAL4wXQPRY86Tey4DNMMBk"
     }
    }
   }
  },
  {
   "cell_type":"code",
   "source":[
    "similarity_name = \"jaccard_similarity_\"\n",
    "top_cutoff = 0.20  # Top 20% for long positions\n",
    "bottom_cutoff = 0.20  # Bottom 20% for short positions"
   ],
   "execution_count":14,
   "outputs":[],
   "metadata":{
    "datalore":{
     "node_id":"ArKn14myH8A7r4EXWG2Ia5",
     "type":"CODE",
     "hide_input_from_viewers":false,
     "hide_output_from_viewers":false,
     "report_properties":{
      "rowId":"nU0kbWyq9IAIDLNZ2ycqgl"
     }
    }
   }
  },
  {
   "cell_type":"code",
   "source":[
    "def compute_strategy():\n",
    "\n",
    "    long_tickers = {}\n",
    "    short_tickers = {}\n",
    "\n",
    "    for year, group in merged_df.groupby('year'):\n",
    "        \n",
    "        data_sorted = group.sort_values(by=f'{similarity_name}', ascending=True)\n",
    "        \n",
    "        n_stocks = len(data_sorted)\n",
    "        n_long = int(top_cutoff * n_stocks)\n",
    "        n_short = int(bottom_cutoff * n_stocks)\n",
    "\n",
    "        long_portfolio = data_sorted.head(n_long)\n",
    "        short_portfolio = data_sorted.tail(n_short)\n",
    "\n",
    "        long_tickers[year] = long_portfolio['ticker'].tolist()\n",
    "        short_tickers[year] = short_portfolio['ticker'].tolist()\n",
    "\n",
    "    # Initialize a list to store results\n",
    "    portfolio_returns = []\n",
    "\n",
    "    for year in long_tickers.keys():\n",
    "    \n",
    "        long_tick = long_tickers[year]\n",
    "        short_tick = short_tickers[year]\n",
    "\n",
    "        year_price_data = price_data[price_data['Date'].dt.year == year]\n",
    "\n",
    "        year_price_data['daily_return'] = year_price_data.groupby('ticker')['Adj Close'].pct_change()\n",
    "\n",
    "        # Step 3: Separate long and short portfolios\n",
    "        long_returns = year_price_data[year_price_data['ticker'].isin(long_tick)]\n",
    "        short_returns = year_price_data[year_price_data['ticker'].isin(short_tick)]\n",
    "\n",
    "        # Step 4: Calculate average daily returns for long and short portfolios\n",
    "        long_portfolio_return = long_returns.groupby('Date')['daily_return'].mean().reset_index()\n",
    "        short_portfolio_return = short_returns.groupby('Date')['daily_return'].mean().reset_index()\n",
    "\n",
    "        # Step 5: Merge results into one DataFrame\n",
    "        long_portfolio_return['portfolio'] = 'long'\n",
    "        short_portfolio_return['portfolio'] = 'short'\n",
    "\n",
    "        # Combine long and short returns\n",
    "        combined_returns = pd.concat([long_portfolio_return, short_portfolio_return], ignore_index=True)\n",
    "\n",
    "        # Add year to combined returns for clarity\n",
    "        combined_returns['year'] = year\n",
    "\n",
    "        # Append the results for this year to the overall list\n",
    "        portfolio_returns.append(combined_returns)\n",
    "\n",
    "        \n",
    "\n",
    "    # Step 6: Concatenate all years' results into a single DataFrame\n",
    "    final_portfolio_returns = pd.concat(portfolio_returns, ignore_index=True)\n",
    "\n",
    "    long_portfolio_returns = final_portfolio_returns[final_portfolio_returns['portfolio']=='long']\n",
    "    short_portfolio_returns = final_portfolio_returns[final_portfolio_returns['portfolio']=='short']\n",
    "\n",
    "    long_portfolio_returns.set_index('Date', inplace=True)\n",
    "    short_portfolio_returns.set_index('Date', inplace=True)\n",
    "\n",
    "    returns_lsportfolio = 1\/2* (long_portfolio_returns[[\"daily_return\"]] + short_portfolio_returns[[\"daily_return\"]])\n",
    "\n",
    "\n",
    "    return long_portfolio_returns, short_portfolio_returns, returns_lsportfolio, year_price_data"
   ],
   "execution_count":15,
   "outputs":[],
   "metadata":{
    "datalore":{
     "node_id":"GH3if6uoZuvBKg9oHE4WFm",
     "type":"CODE",
     "hide_input_from_viewers":false,
     "hide_output_from_viewers":false,
     "report_properties":{
      "rowId":"Ezxm9VXrjCnA1jfumSLRLB"
     }
    }
   }
  },
  {
   "cell_type":"code",
   "source":[
    "long_portfolio_returns, short_portfolio_returns, returns_lsportfolio, year_price_data = compute_strategy()"
   ],
   "execution_count":16,
   "outputs":[
    {
     "name":"stderr",
     "text":[
      "<ipython-input-15-b033e232829a>:30: SettingWithCopyWarning: \n",
      "A value is trying to be set on a copy of a slice from a DataFrame.\n",
      "Try using .loc[row_indexer,col_indexer] = value instead\n",
      "\n",
      "See the caveats in the documentation: https:\/\/pandas.pydata.org\/pandas-docs\/stable\/user_guide\/indexing.html#returning-a-view-versus-a-copy\n",
      "  year_price_data['daily_return'] = year_price_data.groupby('ticker')['Adj Close'].pct_change()\n",
      "<ipython-input-15-b033e232829a>:30: SettingWithCopyWarning: \n",
      "A value is trying to be set on a copy of a slice from a DataFrame.\n",
      "Try using .loc[row_indexer,col_indexer] = value instead\n",
      "\n",
      "See the caveats in the documentation: https:\/\/pandas.pydata.org\/pandas-docs\/stable\/user_guide\/indexing.html#returning-a-view-versus-a-copy\n",
      "  year_price_data['daily_return'] = year_price_data.groupby('ticker')['Adj Close'].pct_change()\n",
      "<ipython-input-15-b033e232829a>:30: SettingWithCopyWarning: \n",
      "A value is trying to be set on a copy of a slice from a DataFrame.\n",
      "Try using .loc[row_indexer,col_indexer] = value instead\n",
      "\n",
      "See the caveats in the documentation: https:\/\/pandas.pydata.org\/pandas-docs\/stable\/user_guide\/indexing.html#returning-a-view-versus-a-copy\n",
      "  year_price_data['daily_return'] = year_price_data.groupby('ticker')['Adj Close'].pct_change()\n",
      "<ipython-input-15-b033e232829a>:30: SettingWithCopyWarning: \n",
      "A value is trying to be set on a copy of a slice from a DataFrame.\n",
      "Try using .loc[row_indexer,col_indexer] = value instead\n",
      "\n",
      "See the caveats in the documentation: https:\/\/pandas.pydata.org\/pandas-docs\/stable\/user_guide\/indexing.html#returning-a-view-versus-a-copy\n",
      "  year_price_data['daily_return'] = year_price_data.groupby('ticker')['Adj Close'].pct_change()\n"
     ],
     "output_type":"stream"
    }
   ],
   "metadata":{
    "datalore":{
     "node_id":"wGndUDL3GDTjxhH3p5qaOc",
     "type":"CODE",
     "hide_input_from_viewers":false,
     "hide_output_from_viewers":false,
     "report_properties":{
      "rowId":"f4uiVdq0B0Al8yp8JzyWwd"
     }
    }
   }
  },
  {
   "cell_type":"code",
   "source":[
    "cumulative_long_returns = long_portfolio_returns[\"daily_return\"].cumsum()\n",
    "cumulative_short_returns = short_portfolio_returns[\"daily_return\"].cumsum()\n",
    "cumulative_lsportfolio_returns = returns_lsportfolio[\"daily_return\"].cumsum()\n",
    "\n",
    "\n",
    "fig, ax = plt.subplots(1, 1, figsize=(14, 8))\n",
    "\n",
    "# Plot Cumulative Returns\n",
    "#ax.plot(cumulative_long_returns.index, cumulative_long_returns, label='Long portfolio', color='green')\n",
    "#ax.plot(cumulative_short_returns.index, cumulative_short_returns, label='Short portfolio', color='red')\n",
    "ax.plot(cumulative_lsportfolio_returns.index, cumulative_lsportfolio_returns, label='Long-Short portfolio', color='blue')\n",
    "ax.plot(cumretsp500.index, cumretsp500, label='S&P500')\n",
    "\n",
    "# Additional settings (optional)\n",
    "ax.set_xlabel('Date', fontsize=16)\n",
    "ax.set_ylabel('Pnl', fontsize=16)\n",
    "ax.legend(fontsize=15)\n",
    "ax.set_title(\"Evolution of Pnl\", fontsize=23)\n",
    "ax.tick_params(axis='both', which='major', labelsize=14) \n",
    "plt.show()"
   ],
   "execution_count":17,
   "outputs":[
    {
     "data":{
      "image\/png":"[encoded data removed]"
     },
     "metadata":{
      "image\/png":{}
     },
     "output_type":"display_data"
    }
   ],
   "metadata":{
    "datalore":{
     "node_id":"REvYhB0f1WEuju5yALxBJf",
     "type":"CODE",
     "hide_input_from_viewers":false,
     "hide_output_from_viewers":false,
     "report_properties":{
      "rowId":"dqgASVYf1rFIsoejLUBCQ1"
     }
    }
   }
  },
  {
   "cell_type":"code",
   "source":[
    "def compute_metrics(df_returns): \n",
    "\n",
    "    sharpe = round((df_returns.mean()\/df_returns.std() * np.sqrt(252)).values[0],3)\n",
    "    sortino = round((df_returns.mean()\/df_returns[df_returns[\"daily_return\"]<0].std() * np.sqrt(252)).values[0],3)\n",
    "    mdd = round(((df_returns - df_returns.expanding().max()).min()).values[0], 3)\n",
    "\n",
    "    return sharpe, sortino, mdd"
   ],
   "execution_count":18,
   "outputs":[],
   "metadata":{
    "datalore":{
     "node_id":"927aW9iMpDAlhHzsHDxx2O",
     "type":"CODE",
     "hide_input_from_viewers":false,
     "hide_output_from_viewers":false,
     "report_properties":{
      "rowId":"KzsxpYoE1oyPURJBJPSdgr"
     }
    }
   }
  },
  {
   "cell_type":"code",
   "source":[
    "sharpe, sortino, mdd = compute_metrics(returns_lsportfolio)\n",
    "print(sharpe, sortino, mdd)"
   ],
   "execution_count":19,
   "outputs":[
    {
     "name":"stdout",
     "text":[
      "1.643 2.549 -0.22\n"
     ],
     "output_type":"stream"
    }
   ],
   "metadata":{
    "datalore":{
     "node_id":"zK56gjKiCrya54ZFFZ5p6z",
     "type":"CODE",
     "hide_input_from_viewers":false,
     "hide_output_from_viewers":false,
     "report_properties":{
      "rowId":"ioKoxYhxCrRaxoGY5TMmvX"
     }
    }
   }
  },
  {
   "cell_type":"code",
   "source":[
    "returns_lsportfolio.to_csv('\/data\/workspace_files\/lazy_price_replication\/jaccard_sim_returns')"
   ],
   "execution_count":23,
   "outputs":[],
   "metadata":{
    "datalore":{
     "node_id":"o1GOSHObrMpyIgGIyS1Ili",
     "type":"CODE",
     "hide_input_from_viewers":false,
     "hide_output_from_viewers":false,
     "report_properties":{
      "rowId":"Ik2eU0umXwd8VYN5bLyvVR"
     }
    }
   }
  },
  {
   "cell_type":"markdown",
   "source":[
    "## 2008"
   ],
   "attachments":{},
   "metadata":{
    "datalore":{
     "node_id":"Cm9o1MNUHyQcIoHjc80FHu",
     "type":"MD",
     "hide_input_from_viewers":false,
     "hide_output_from_viewers":false,
     "report_properties":{
      "rowId":"eWnUiBoMmt7gjsg6hVLmub"
     }
    }
   }
  },
  {
   "cell_type":"code",
   "source":[
    "sharpe, sortino, mdd = compute_metrics(returns_lsportfolio[[\"daily_return\"]].loc[\"2008\"])\n",
    "print(sharpe, sortino, mdd)"
   ],
   "execution_count":20,
   "outputs":[
    {
     "name":"stdout",
     "text":[
      "0.067 0.099 -0.197\n"
     ],
     "output_type":"stream"
    }
   ],
   "metadata":{
    "datalore":{
     "node_id":"1JEpOsxGuPY4oUEym1UMrT",
     "type":"CODE",
     "hide_input_from_viewers":false,
     "hide_output_from_viewers":false,
     "report_properties":{
      "rowId":"vjfEkj7r1wItFfN0zmGskj"
     }
    }
   }
  },
  {
   "cell_type":"code",
   "source":[
    "sharpe, sortino, mdd = compute_metrics(retsp500[[\"daily_return\"]].loc[\"2008\"])\n",
    "print(sharpe, sortino, mdd)"
   ],
   "execution_count":21,
   "outputs":[
    {
     "name":"stdout",
     "text":[
      "-0.943 -1.283 -0.206\n"
     ],
     "output_type":"stream"
    }
   ],
   "metadata":{
    "datalore":{
     "node_id":"E4l3HxBC6ilt7b5rkRWlxB",
     "type":"CODE",
     "hide_input_from_viewers":false,
     "hide_output_from_viewers":false,
     "report_properties":{
      "rowId":"bNQgX5eYD7QK1dXnSJL3l5"
     }
    }
   }
  },
  {
   "cell_type":"code",
   "source":[],
   "execution_count":null,
   "outputs":[],
   "metadata":{
    "datalore":{
     "node_id":"YRx3XLOc7B3yBXIB9yI5pG",
     "type":"CODE",
     "hide_input_from_viewers":true,
     "hide_output_from_viewers":true
    }
   }
  },
  {
   "cell_type":"code",
   "source":[],
   "execution_count":null,
   "outputs":[],
   "metadata":{
    "datalore":{
     "node_id":"HpXFW3hCrWPd86e9rzvg3z",
     "type":"CODE",
     "hide_input_from_viewers":true,
     "hide_output_from_viewers":true
    }
   }
  }
 ],
 "metadata":{
  "kernelspec":{
   "display_name":"Python",
   "language":"python",
   "name":"python"
  },
  "datalore":{
   "computation_mode":"JUPYTER",
   "package_manager":"pip",
   "base_environment":"default",
   "packages":[],
   "report_row_ids":[
    "1wvNWpBt7S6YPDRXHdGilV",
    "aW433aczENwVMlmYJclYh2",
    "uLVN4KLQZHUY5375Rkgghm",
    "YM5SSVhBgJ8vCqvZVT9N3K",
    "GtYkYlSpr0a1z4IglLjUfe",
    "xlUBdvAAgf3tUwlVy230fR",
    "zKPQgPKbdaKLNvHVpOlZSE",
    "mBR8a8abss1tWtf429QJh3",
    "EKMMtgld1J27HhHg5ZVBQE",
    "NglIKN3KZARlgJnppwCWpf",
    "zB2PLdKAnkLeRyXnSifJ3Z",
    "4QZCwrmsFjqiJLo6QxEqAb",
    "RnRFQvT4uQ18oqxnrSheG7",
    "IAL4wXQPRY86Tey4DNMMBk",
    "nU0kbWyq9IAIDLNZ2ycqgl",
    "Ezxm9VXrjCnA1jfumSLRLB",
    "f4uiVdq0B0Al8yp8JzyWwd",
    "dqgASVYf1rFIsoejLUBCQ1",
    "KzsxpYoE1oyPURJBJPSdgr",
    "ioKoxYhxCrRaxoGY5TMmvX",
    "Ik2eU0umXwd8VYN5bLyvVR",
    "eWnUiBoMmt7gjsg6hVLmub",
    "vjfEkj7r1wItFfN0zmGskj",
    "bNQgX5eYD7QK1dXnSJL3l5"
   ],
   "version":3
  }
 },
 "nbformat":4,
 "nbformat_minor":4
}